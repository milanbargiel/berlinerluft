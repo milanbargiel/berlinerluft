{
 "cells": [
  {
   "cell_type": "code",
   "execution_count": 28,
   "metadata": {},
   "outputs": [],
   "source": [
    "import pandas as pd\n",
    "\n",
    "air_quality = pd.read_csv('data/AutofreieFriedrichstrasse_IASSdata_thruNov.20.1.21.csv')\n",
    "\n",
    "# Remove all columns of dataframe except date and rename column\n",
    "air_quality = air_quality.drop(columns=['Glinka', 'Glinka_SE', 'Friedrich_SE', 'Char', 'Char_SE'])\n",
    "air_quality = air_quality.rename(columns = {'Friedrich': 'value'})\n",
    "\n",
    "# Calculate daily no2 mean on Friedrichstraße\n",
    "air_quality['date'] = pd.to_datetime(air_quality['date'])\n",
    "air_quality_daily = air_quality.resample('D', on='date').mean()\n",
    "air_quality_daily = air_quality_daily.round(2) # round to two decimals\n",
    "\n",
    "# Write csv\n",
    "air_quality_daily.to_csv('data/air_clean.csv')"
   ]
  },
  {
   "cell_type": "code",
   "execution_count": null,
   "metadata": {},
   "outputs": [],
   "source": []
  }
 ],
 "metadata": {
  "kernelspec": {
   "display_name": "Python 3",
   "language": "python",
   "name": "python3"
  },
  "language_info": {
   "codemirror_mode": {
    "name": "ipython",
    "version": 3
   },
   "file_extension": ".py",
   "mimetype": "text/x-python",
   "name": "python",
   "nbconvert_exporter": "python",
   "pygments_lexer": "ipython3",
   "version": "3.6.12"
  }
 },
 "nbformat": 4,
 "nbformat_minor": 4
}
