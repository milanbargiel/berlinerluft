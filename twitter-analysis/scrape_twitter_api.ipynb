{
 "cells": [
  {
   "cell_type": "markdown",
   "metadata": {},
   "source": [
    "### Milans experiments with the Twitter API for Berliner Luft project"
   ]
  },
  {
   "cell_type": "markdown",
   "metadata": {},
   "source": [
    "### Install dependencies"
   ]
  },
  {
   "cell_type": "code",
   "execution_count": 33,
   "metadata": {},
   "outputs": [],
   "source": [
    "install_packages = False\n",
    "\n",
    "if install_packages:\n",
    "    !conda install -c conda-forge python-decouple -y\n",
    "    !conda install -c conda-forge tweepy -y\n",
    "    !conda install -c anaconda pandas -y"
   ]
  },
  {
   "cell_type": "markdown",
   "metadata": {},
   "source": [
    "### Import dependencies"
   ]
  },
  {
   "cell_type": "code",
   "execution_count": 34,
   "metadata": {},
   "outputs": [],
   "source": [
    "import os\n",
    "from decouple import config # for loading .env files to securely store api keys\n",
    "import getpass # to prompt user for access pin\n",
    "import tweepy # python package to easily access twitter api\n",
    "import pandas\n",
    "import webbrowser\n",
    "import time"
   ]
  },
  {
   "cell_type": "markdown",
   "metadata": {},
   "source": [
    "### Authorize for API access"
   ]
  },
  {
   "cell_type": "code",
   "execution_count": 35,
   "metadata": {},
   "outputs": [],
   "source": [
    "# read key and secret from local .env file\n",
    "consumer_key = config('TWITTER_KEY')\n",
    "consumer_secret = config('TWITTER_SECRET')"
   ]
  },
  {
   "cell_type": "code",
   "execution_count": 36,
   "metadata": {},
   "outputs": [
    {
     "name": "stdin",
     "output_type": "stream",
     "text": [
      "What's the authorization pin from the website?  ·······\n"
     ]
    },
    {
     "name": "stdout",
     "output_type": "stream",
     "text": [
      "palermo74822531\n"
     ]
    }
   ],
   "source": [
    "callback_uri = 'oob' # https://cfe.sh/twitter/callback\n",
    "auth = tweepy.OAuthHandler(consumer_key, consumer_secret, callback_uri)\n",
    "redirect_url = auth.get_authorization_url()\n",
    "webbrowser.open(redirect_url)\n",
    "user_pin_input = getpass.getpass(\"What's the authorization pin from the website? \")\n",
    "auth.get_access_token(user_pin_input)\n",
    "api = tweepy.API(auth, wait_on_rate_limit=True)\n",
    "me = api.me()\n",
    "print(me.screen_name)"
   ]
  },
  {
   "cell_type": "markdown",
   "metadata": {},
   "source": [
    "### Filtering Tweets by location and time\n",
    "- **Tweets with a specific latitude/longitude \"Point\" coordinate.** They come from GPS enabled devices, and represent the exact GPS location of the Tweet in question.\n",
    "- **Tweets with a Twitter “Place”.** They contain a polygon, consisting of 4 lon-lat coordinates that define the general area (the “Place”) from which the user is posting the Tweet. Additionally, the Place will have a display name, type (e.g. city, neighborhood), and country code corresponding to the country where the Place is located, among other fields.\n",
    "- **Tweets that use the hashtag #friedrichstraße**\n",
    "- **Get tweets from June 2020 untill today**"
   ]
  },
  {
   "cell_type": "code",
   "execution_count": 37,
   "metadata": {},
   "outputs": [],
   "source": [
    "search_word = \"#friedrichstraße\"\n",
    "location = \"52.51275146804908, 13.389556366632663, 0.5km\"\n",
    "date_since = \"2020-06-01\" #yyyy-mm-dd, unfortunately the twitter api only dates back 1 week but there seem to be ways around this: https://pypi.org/project/GetOldTweets3/\n"
   ]
  },
  {
   "cell_type": "code",
   "execution_count": 58,
   "metadata": {},
   "outputs": [
    {
     "data": {
      "text/plain": [
       "True"
      ]
     },
     "execution_count": 58,
     "metadata": {},
     "output_type": "execute_result"
    }
   ],
   "source": [
    "tweets = tweepy.Cursor(api.search,\n",
    "              q=search_word,\n",
    "              lang=\"de\",\n",
    "              since=date_since,\n",
    "              include_retweets=False,\n",
    "              tweet_mode='extended').items() # tweet mode extended to get full tweets\n",
    "\n",
    "tweet_data = []\n",
    "\n",
    "for tweet in tweets:\n",
    "    tweet_data.append([tweet.created_at, tweet.user.screen_name, tweet.full_text, tweet.favorite_count, tweet.retweet_count, tweet.coordinates, tweet.user.location, \"https://twitter.com/twitter/statuses/\" + tweet.id_str])\n",
    "\n",
    "table = pandas.DataFrame(data=tweet_data, \n",
    "                     columns=[\"timestamp\", \"user\", \"text\", \"likes\", \"retweets\", \"coordinates\", \"location\", \"url\"])\n",
    "table\n",
    "\n",
    "# Open table in web browser\n",
    "html = table.to_html()\n",
    "path = os.path.abspath('data.html')\n",
    "url = 'file://' + path\n",
    "with open(path, 'w') as f:\n",
    "    f.write(html)\n",
    "webbrowser.open(url)"
   ]
  },
  {
   "cell_type": "code",
   "execution_count": null,
   "metadata": {},
   "outputs": [],
   "source": []
  }
 ],
 "metadata": {
  "kernelspec": {
   "display_name": "Python 3",
   "language": "python",
   "name": "python3"
  },
  "language_info": {
   "codemirror_mode": {
    "name": "ipython",
    "version": 3
   },
   "file_extension": ".py",
   "mimetype": "text/x-python",
   "name": "python",
   "nbconvert_exporter": "python",
   "pygments_lexer": "ipython3",
   "version": "3.6.12"
  }
 },
 "nbformat": 4,
 "nbformat_minor": 4
}
